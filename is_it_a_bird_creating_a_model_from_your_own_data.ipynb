{
  "metadata": {
    "kernelspec": {
      "language": "python",
      "display_name": "Python 3",
      "name": "python3"
    },
    "language_info": {
      "name": "python",
      "version": "3.7.12",
      "mimetype": "text/x-python",
      "codemirror_mode": {
        "name": "ipython",
        "version": 3
      },
      "pygments_lexer": "ipython3",
      "nbconvert_exporter": "python",
      "file_extension": ".py"
    },
    "kaggle": {
      "accelerator": "gpu",
      "dataSources": [],
      "dockerImageVersionId": 30177,
      "isInternetEnabled": true,
      "language": "python",
      "sourceType": "notebook",
      "isGpuEnabled": true
    },
    "colab": {
      "provenance": []
    }
  },
  "nbformat_minor": 0,
  "nbformat": 4,
  "cells": [
    {
      "cell_type": "markdown",
      "source": [
        "## Is it a bird?"
      ],
      "metadata": {
        "id": "x6i3sVmv5ukk"
      }
    },
    {
      "cell_type": "code",
      "source": [
        "#NB: Kaggle requires phone verification to use the internet or a GPU. If you haven't done that yet, the cell below will fail\n",
        "#    This code is only here to check that your internet is enabled. It doesn't do anything else.\n",
        "#    Here's a help thread on getting your phone number verified: https://www.kaggle.com/product-feedback/135367\n",
        "\n",
        "import socket,warnings\n",
        "try:\n",
        "    socket.setdefaulttimeout(1)\n",
        "    socket.socket(socket.AF_INET, socket.SOCK_STREAM).connect(('1.1.1.1', 53))\n",
        "except socket.error as ex: raise Exception(\"STOP: No internet. Click '>|' in top right and set 'Internet' switch to on\")"
      ],
      "metadata": {
        "execution": {
          "iopub.status.busy": "2024-01-26T13:11:34.779219Z",
          "iopub.execute_input": "2024-01-26T13:11:34.779568Z",
          "iopub.status.idle": "2024-01-26T13:11:34.817561Z",
          "shell.execute_reply.started": "2024-01-26T13:11:34.779485Z",
          "shell.execute_reply": "2024-01-26T13:11:34.816913Z"
        },
        "trusted": true,
        "id": "HVzpV9LE5ukl"
      },
      "execution_count": 1,
      "outputs": []
    },
    {
      "cell_type": "code",
      "source": [
        "# It's a good idea to ensure you're running the latest version of any libraries you need.\n",
        "# `!pip install -Uqq <libraries>` upgrades to the latest version of <libraries>\n",
        "# NB: You can safely ignore any warnings or errors pip spits out about running as root or incompatibilities\n",
        "import os\n",
        "iskaggle = os.environ.get('KAGGLE_KERNEL_RUN_TYPE', '')\n",
        "\n",
        "if iskaggle:\n",
        "    !pip install -Uqq fastai duckduckgo_search"
      ],
      "metadata": {
        "_kg_hide-input": true,
        "_kg_hide-output": true,
        "execution": {
          "iopub.status.busy": "2022-08-15T19:54:58.581817Z",
          "iopub.execute_input": "2022-08-15T19:54:58.582154Z",
          "iopub.status.idle": "2022-08-15T19:55:20.002673Z",
          "shell.execute_reply.started": "2022-08-15T19:54:58.58212Z",
          "shell.execute_reply": "2022-08-15T19:55:20.001747Z"
        },
        "trusted": true,
        "id": "AxWu2X7Y5ukm"
      },
      "execution_count": null,
      "outputs": []
    },
    {
      "cell_type": "markdown",
      "source": [
        "In 2015 the idea of creating a computer system that could recognise birds was considered so outrageously challenging that it was the basis of [this XKCD joke](https://xkcd.com/1425/):"
      ],
      "metadata": {
        "id": "-P0fZov45ukm"
      }
    },
    {
      "cell_type": "markdown",
      "source": [
        "![image.png](attachment:a0483178-c30e-4fdd-b2c2-349e130ab260.png)"
      ],
      "metadata": {
        "id": "nZlz1Oni5ukm"
      }
    },
    {
      "cell_type": "markdown",
      "source": [
        "But today, we can do exactly that, in just a few minutes, using entirely free resources!\n",
        "\n",
        "The basic steps we'll take are:\n",
        "\n",
        "1. Use DuckDuckGo to search for images of \"bird photos\"\n",
        "1. Use DuckDuckGo to search for images of \"forest photos\"\n",
        "1. Fine-tune a pretrained neural network to recognise these two groups\n",
        "1. Try running this model on a picture of a bird and see if it works."
      ],
      "metadata": {
        "id": "MLj-0PgK5ukm"
      }
    },
    {
      "cell_type": "markdown",
      "source": [
        "## Step 1: Download images of birds and non-birds"
      ],
      "metadata": {
        "id": "SH-q-8i15ukm"
      }
    },
    {
      "cell_type": "code",
      "source": [
        "from duckduckgo_search import ddg_images\n",
        "from fastcore.all import *\n",
        "\n",
        "def search_images(term, max_images=30):\n",
        "    print(f\"Searching for '{term}'\")\n",
        "    return L(ddg_images(term, max_results=max_images)).itemgot('image')"
      ],
      "metadata": {
        "_kg_hide-input": true,
        "execution": {
          "iopub.status.busy": "2022-08-15T20:17:04.164811Z",
          "iopub.execute_input": "2022-08-15T20:17:04.165128Z",
          "iopub.status.idle": "2022-08-15T20:17:04.171Z",
          "shell.execute_reply.started": "2022-08-15T20:17:04.165074Z",
          "shell.execute_reply": "2022-08-15T20:17:04.170146Z"
        },
        "trusted": true,
        "id": "TNmq-llK5ukm"
      },
      "execution_count": null,
      "outputs": []
    },
    {
      "cell_type": "markdown",
      "source": [
        "Let's start by searching for a bird photo and seeing what kind of result we get. We'll start by getting URLs from a search:"
      ],
      "metadata": {
        "id": "mh8YPcM25ukn"
      }
    },
    {
      "cell_type": "code",
      "source": [
        "#NB: `search_images` depends on duckduckgo.com, which doesn't always return correct responses.\n",
        "#    If you get a JSON error, just try running it again (it may take a couple of tries).\n",
        "urls = search_images('bird photos', max_images=1)\n",
        "urls[0]"
      ],
      "metadata": {
        "execution": {
          "iopub.status.busy": "2022-08-15T19:55:20.112732Z",
          "iopub.execute_input": "2022-08-15T19:55:20.113016Z",
          "iopub.status.idle": "2022-08-15T19:55:20.813756Z",
          "shell.execute_reply.started": "2022-08-15T19:55:20.11298Z",
          "shell.execute_reply": "2022-08-15T19:55:20.812977Z"
        },
        "trusted": true,
        "id": "hBHcNdyD5ukn"
      },
      "execution_count": null,
      "outputs": []
    },
    {
      "cell_type": "markdown",
      "source": [
        "...and then download a URL and take a look at it:"
      ],
      "metadata": {
        "id": "kqQXI96z5ukn"
      }
    },
    {
      "cell_type": "code",
      "source": [
        "from fastdownload import download_url\n",
        "dest = 'bird.jpg'\n",
        "download_url(urls[0], dest, show_progress=False)\n",
        "\n",
        "from fastai.vision.all import *\n",
        "im = Image.open(dest)\n",
        "im.to_thumb(256,256)"
      ],
      "metadata": {
        "execution": {
          "iopub.status.busy": "2022-08-15T19:55:20.815535Z",
          "iopub.execute_input": "2022-08-15T19:55:20.815867Z",
          "iopub.status.idle": "2022-08-15T19:55:24.626482Z",
          "shell.execute_reply.started": "2022-08-15T19:55:20.815831Z",
          "shell.execute_reply": "2022-08-15T19:55:24.623449Z"
        },
        "trusted": true,
        "id": "ofu_2nDw5ukn"
      },
      "execution_count": null,
      "outputs": []
    },
    {
      "cell_type": "markdown",
      "source": [
        "Now let's do the same with \"forest photos\":"
      ],
      "metadata": {
        "id": "fZoIf4W-5ukn"
      }
    },
    {
      "cell_type": "code",
      "source": [
        "download_url(search_images('forest photos', max_images=1)[0], 'forest.jpg', show_progress=False)\n",
        "Image.open('forest.jpg').to_thumb(256,256)"
      ],
      "metadata": {
        "execution": {
          "iopub.status.busy": "2022-08-15T19:55:36.954888Z",
          "iopub.execute_input": "2022-08-15T19:55:36.955181Z",
          "iopub.status.idle": "2022-08-15T19:55:40.153631Z",
          "shell.execute_reply.started": "2022-08-15T19:55:36.955148Z",
          "shell.execute_reply": "2022-08-15T19:55:40.152923Z"
        },
        "trusted": true,
        "id": "RPiRUIAt5ukn"
      },
      "execution_count": null,
      "outputs": []
    },
    {
      "cell_type": "markdown",
      "source": [
        "Our searches seem to be giving reasonable results, so let's grab a few examples of each of \"bird\" and \"forest\" photos, and save each group of photos to a different folder (I'm also trying to grab a range of lighting conditions here):"
      ],
      "metadata": {
        "id": "e8es16M95ukn"
      }
    },
    {
      "cell_type": "code",
      "source": [
        "searches = 'forest','bird'\n",
        "path = Path('bird_or_not')\n",
        "from time import sleep\n",
        "\n",
        "for o in searches:\n",
        "    dest = (path/o)\n",
        "    dest.mkdir(exist_ok=True, parents=True)\n",
        "    download_images(dest, urls=search_images(f'{o} photo'))\n",
        "    sleep(10)  # Pause between searches to avoid over-loading server\n",
        "    download_images(dest, urls=search_images(f'{o} sun photo'))\n",
        "    sleep(10)\n",
        "    download_images(dest, urls=search_images(f'{o} shade photo'))\n",
        "    sleep(10)\n",
        "    resize_images(path/o, max_size=400, dest=path/o)"
      ],
      "metadata": {
        "execution": {
          "iopub.status.busy": "2022-08-15T20:17:07.593689Z",
          "iopub.execute_input": "2022-08-15T20:17:07.594354Z",
          "iopub.status.idle": "2022-08-15T20:19:01.592018Z",
          "shell.execute_reply.started": "2022-08-15T20:17:07.594316Z",
          "shell.execute_reply": "2022-08-15T20:19:01.591029Z"
        },
        "trusted": true,
        "id": "4OJJKGMo5ukn"
      },
      "execution_count": null,
      "outputs": []
    },
    {
      "cell_type": "markdown",
      "source": [
        "## Step 2: Train our model"
      ],
      "metadata": {
        "id": "ITzHK5Uk5ukn"
      }
    },
    {
      "cell_type": "markdown",
      "source": [
        "Some photos might not download correctly which could cause our model training to fail, so we'll remove them:"
      ],
      "metadata": {
        "id": "82LjFwBE5ukn"
      }
    },
    {
      "cell_type": "code",
      "source": [
        "failed = verify_images(get_image_files(path))\n",
        "failed.map(Path.unlink)\n",
        "len(failed)"
      ],
      "metadata": {
        "execution": {
          "iopub.status.busy": "2022-08-15T20:19:04.404342Z",
          "iopub.execute_input": "2022-08-15T20:19:04.404678Z",
          "iopub.status.idle": "2022-08-15T20:19:05.39286Z",
          "shell.execute_reply.started": "2022-08-15T20:19:04.404644Z",
          "shell.execute_reply": "2022-08-15T20:19:05.392068Z"
        },
        "trusted": true,
        "id": "TMvNQjR95ukn"
      },
      "execution_count": null,
      "outputs": []
    },
    {
      "cell_type": "markdown",
      "source": [
        "To train a model, we'll need `DataLoaders`, which is an object that contains a *training set* (the images used to create a model) and a *validation set* (the images used to check the accuracy of a model -- not used during training). In `fastai` we can create that easily using a `DataBlock`, and view sample images from it:"
      ],
      "metadata": {
        "id": "N9fO5H7w5uko"
      }
    },
    {
      "cell_type": "code",
      "source": [
        "dls = DataBlock(\n",
        "    blocks=(ImageBlock, CategoryBlock),\n",
        "    get_items=get_image_files,\n",
        "    splitter=RandomSplitter(valid_pct=0.2, seed=42),\n",
        "    get_y=parent_label,\n",
        "    item_tfms=[Resize(192, method='squish')]\n",
        ").dataloaders(path, bs=32)\n",
        "\n",
        "dls.show_batch(max_n=6)"
      ],
      "metadata": {
        "execution": {
          "iopub.status.busy": "2022-08-15T20:19:14.91491Z",
          "iopub.execute_input": "2022-08-15T20:19:14.915511Z",
          "iopub.status.idle": "2022-08-15T20:19:15.716279Z",
          "shell.execute_reply.started": "2022-08-15T20:19:14.915472Z",
          "shell.execute_reply": "2022-08-15T20:19:15.715544Z"
        },
        "trusted": true,
        "id": "UpCvjHld5uko"
      },
      "execution_count": null,
      "outputs": []
    },
    {
      "cell_type": "markdown",
      "source": [
        "Here what each of the `DataBlock` parameters means:\n",
        "\n",
        "    blocks=(ImageBlock, CategoryBlock),\n",
        "\n",
        "The inputs to our model are images, and the outputs are categories (in this case, \"bird\" or \"forest\").\n",
        "\n",
        "    get_items=get_image_files,\n",
        "\n",
        "To find all the inputs to our model, run the `get_image_files` function (which returns a list of all image files in a path).\n",
        "\n",
        "    splitter=RandomSplitter(valid_pct=0.2, seed=42),\n",
        "\n",
        "Split the data into training and validation sets randomly, using 20% of the data for the validation set.\n",
        "\n",
        "    get_y=parent_label,\n",
        "\n",
        "The labels (`y` values) is the name of the `parent` of each file (i.e. the name of the folder they're in, which will be *bird* or *forest*).\n",
        "\n",
        "    item_tfms=[Resize(192, method='squish')]\n",
        "\n",
        "Before training, resize each image to 192x192 pixels by \"squishing\" it (as opposed to cropping it)."
      ],
      "metadata": {
        "id": "eTK6N-e45uko"
      }
    },
    {
      "cell_type": "markdown",
      "source": [
        "Now we're ready to train our model. The fastest widely used computer vision model is `resnet18`. You can train this in a few minutes, even on a CPU! (On a GPU, it generally takes under 10 seconds...)\n",
        "\n",
        "`fastai` comes with a helpful `fine_tune()` method which automatically uses best practices for fine tuning a pre-trained model, so we'll use that."
      ],
      "metadata": {
        "id": "arvHmRZq5uko"
      }
    },
    {
      "cell_type": "code",
      "source": [
        "learn = vision_learner(dls, resnet18, metrics=error_rate)\n",
        "learn.fine_tune(3)"
      ],
      "metadata": {
        "execution": {
          "iopub.status.busy": "2022-08-15T20:19:19.95376Z",
          "iopub.execute_input": "2022-08-15T20:19:19.954102Z",
          "iopub.status.idle": "2022-08-15T20:19:28.933948Z",
          "shell.execute_reply.started": "2022-08-15T20:19:19.954048Z",
          "shell.execute_reply": "2022-08-15T20:19:28.933106Z"
        },
        "trusted": true,
        "id": "FUnaIro25uko"
      },
      "execution_count": null,
      "outputs": []
    },
    {
      "cell_type": "markdown",
      "source": [
        "Generally when I run this I see 100% accuracy on the validation set (although it might vary a bit from run to run).\n",
        "\n",
        "\"Fine-tuning\" a model means that we're starting with a model someone else has trained using some other dataset (called the *pretrained model*), and adjusting the weights a little bit so that the model learns to recognise your particular dataset. In this case, the pretrained model was trained to recognise photos in *imagenet*, and widely-used computer vision dataset with images covering 1000 categories) For details on fine-tuning and why it's important, check out the [free fast.ai course](https://course.fast.ai/)."
      ],
      "metadata": {
        "id": "RkWq8BAS5uko"
      }
    },
    {
      "cell_type": "markdown",
      "source": [
        "## Step 3: Use our model (and build your own!)"
      ],
      "metadata": {
        "id": "rFWqlTv65uko"
      }
    },
    {
      "cell_type": "markdown",
      "source": [
        "Let's see what our model thinks about that bird we downloaded at the start:"
      ],
      "metadata": {
        "id": "ouFJHdLj5uko"
      }
    },
    {
      "cell_type": "code",
      "source": [
        "is_bird,_,probs = learn.predict(PILImage.create('bird.jpg'))\n",
        "print(f\"This is a: {is_bird}.\")\n",
        "print(f\"Probability it's a bird: {probs[0]:.4f}\")"
      ],
      "metadata": {
        "execution": {
          "iopub.status.busy": "2022-08-15T20:19:28.938464Z",
          "iopub.execute_input": "2022-08-15T20:19:28.940392Z",
          "iopub.status.idle": "2022-08-15T20:19:29.36432Z",
          "shell.execute_reply.started": "2022-08-15T20:19:28.940353Z",
          "shell.execute_reply": "2022-08-15T20:19:29.363513Z"
        },
        "trusted": true,
        "id": "1xlS7HX05uko"
      },
      "execution_count": null,
      "outputs": []
    },
    {
      "cell_type": "markdown",
      "source": [
        "Good job, resnet18. :)\n",
        "\n",
        "So, as you see, in the space of a few years, creating computer vision classification models has gone from \"so hard it's a joke\" to \"trivially easy and free\"!\n",
        "\n",
        "It's not just in computer vision. Thanks to deep learning, computers can now do many things which seemed impossible just a few years ago, including [creating amazing artworks](https://openai.com/dall-e-2/), and [explaining jokes](https://www.datanami.com/2022/04/22/googles-massive-new-language-model-can-explain-jokes/). It's moving so fast that even experts in the field have trouble predicting how it's going to impact society in the coming years.\n",
        "\n",
        "One thing is clear -- it's important that we all do our best to understand this technology, because otherwise we'll get left behind!"
      ],
      "metadata": {
        "id": "L0uCh38D5uko"
      }
    },
    {
      "cell_type": "markdown",
      "source": [
        "Now it's your turn. Click \"Copy & Edit\" and try creating your own image classifier using your own image searches!\n",
        "\n",
        "If you enjoyed this, please consider clicking the \"upvote\" button in the top-right -- it's very encouraging to us notebook authors to know when people appreciate our work."
      ],
      "metadata": {
        "id": "ytS-j-DW5uko"
      }
    }
  ]
}